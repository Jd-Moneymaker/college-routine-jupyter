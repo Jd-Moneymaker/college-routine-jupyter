{
 "cells": [
  {
   "cell_type": "code",
   "execution_count": 10,
   "metadata": {},
   "outputs": [],
   "source": [
    "import pandas as pd\n",
    "import numpy as np\n",
    "import os\n",
    "import json\n",
    "import re"
   ]
  },
  {
   "cell_type": "markdown",
   "metadata": {},
   "source": [
    "all the imports. ** explinations in this project r on the bottom of the code **"
   ]
  },
  {
   "cell_type": "code",
   "execution_count": 11,
   "metadata": {},
   "outputs": [],
   "source": [
    "data = pd.read_excel('routine.xlsx', sheet_name=2 ,skiprows=4)\n",
    "data.columns = data.columns.str.replace('\\n', '_')\n",
    "data.columns = data.columns.str.replace(':', '')\n",
    "data.columns = data.columns.str.replace(' ', '_')\n",
    "data.columns = data.columns.str.replace(r'\\.\\d+', '', regex=True)\n",
    "dataframe = data.fillna('-') \n",
    "dataframe.columns = dataframe.columns.str.upper()"
   ]
  },
  {
   "cell_type": "markdown",
   "metadata": {},
   "source": [
    "skips the unnecessary sheets and also skipps the first 4 rows which r the headings of the sheet."
   ]
  },
  {
   "cell_type": "code",
   "execution_count": 12,
   "metadata": {},
   "outputs": [],
   "source": [
    "data_cleaning = dataframe.drop([\"CLASS_SIZE\", \"ASSIGNED_HALL\", \"HALL_CAPACITY_MATCH\", \"UNNAMED_57\"], axis='columns')\n",
    "# ? UNNAMED_57 => is break\n",
    "# len(data.columns)\n",
    "indexList = list(range(61))\n",
    "for i in range(2, 61, 5):\n",
    "    indexList.remove(i)\n",
    "clean_data = data_cleaning.iloc[:, indexList]"
   ]
  },
  {
   "cell_type": "markdown",
   "metadata": {},
   "source": [
    "adds the day in all the rows of the day column "
   ]
  },
  {
   "cell_type": "code",
   "execution_count": 13,
   "metadata": {},
   "outputs": [],
   "source": [
    "def fill_days(column):\n",
    "    current_day = None\n",
    "    new_column = column.copy()  # Create a copy to avoid warnings\n",
    "    for i, value in enumerate(new_column):\n",
    "        if pd.notna(value) and value != '-':\n",
    "            current_day = value\n",
    "        elif value == '-' and current_day is not None:\n",
    "            new_column.iloc[i] = current_day\n",
    "    return new_column\n",
    "\n",
    "# Make sure clean_data is a copy, not a view\n",
    "clean_data = clean_data.copy()\n",
    "\n",
    "# Apply the function to the 'DAY' column\n",
    "clean_data.loc[:, 'DAY'] = fill_days(clean_data['DAY'])"
   ]
  },
  {
   "cell_type": "markdown",
   "metadata": {},
   "source": [
    "this fills in all the columns in day secction. all the columns r filled wit day name"
   ]
  },
  {
   "cell_type": "code",
   "execution_count": 14,
   "metadata": {},
   "outputs": [],
   "source": [
    "days_of_week = ['MONDAY', 'TUESDAY', 'WEDNESDAY', 'THURSDAY', 'FRIDAY', 'SATURDAY']\n",
    "monday_df, tuesday_df, wednesday_df, thursday_df, friday_df, saturday_df = [clean_data.loc[clean_data['DAY'] == day] for day in days_of_week]\n",
    "\n",
    "# Create a new folder to store the CSV files\n",
    "new_folder = \"excel data\"\n",
    "if not os.path.exists(new_folder):\n",
    "    os.makedirs(new_folder)\n",
    "\n",
    "for day in days_of_week:\n",
    "    day_data = clean_data[clean_data['DAY'] == day]\n",
    "    filename = f\"{day}.xlsx\"  # Create a unique filename for each day\n",
    "    file_path = os.path.join(new_folder, filename)  # Join the folder path with the filename\n",
    "    day_data.to_excel(file_path, index=False)\n"
   ]
  },
  {
   "cell_type": "markdown",
   "metadata": {},
   "source": [
    "makes indivigual dataframes for every 'day' section of the week"
   ]
  },
  {
   "cell_type": "code",
   "execution_count": 15,
   "metadata": {},
   "outputs": [],
   "source": [
    "\n",
    "# ! Define the time intervals to group data\n",
    "time_intervals = ['7.00 - 7.45', '7.45 - 8.30', '8.30 - 9.20', '9.20 - 10.10', '10.10 - 11.00', '11.00 - 11.50', '11.50 - 12.35', '1.00 - 1.45', '1.45 - 2.30', '2.30 - 3.15', '3.15 - 4.00', '4.00 - 4.45']\n",
    "\n",
    "# Extract columns except 'DAY'\n",
    "columns_except_day = clean_data.columns[1:]  # Skip 'DAY' column\n",
    "\n",
    "# Group every 4 columns together and create multi-level column names\n",
    "n_sets = len(columns_except_day) // 4\n",
    "new_columns = [('DAY', '')]  # Keep 'DAY' at the start\n",
    "\n",
    "for i in range(n_sets):\n",
    "    time_range = time_intervals[i]  # Assign each group a time interval\n",
    "    new_columns.extend([(time_range, col) for col in ['COURSE_NAME', 'COURSE_CODE_SECTION_&_SHIFT', 'FACULTY_INITIALS', 'HALL']])\n",
    "\n",
    "# List of DataFrames to update\n",
    "dataframes = [monday_df, tuesday_df, wednesday_df, thursday_df, friday_df, saturday_df]\n",
    "\n",
    "\n",
    "# Assign the new MultiIndex to each DataFrame's columns\n",
    "for df in dataframes:\n",
    "    df.columns = pd.MultiIndex.from_tuples(new_columns)\n",
    "    \n"
   ]
  },
  {
   "cell_type": "markdown",
   "metadata": {},
   "source": [
    "adds time intervals as headers of the original columns. adds time on top of the columns"
   ]
  },
  {
   "cell_type": "code",
   "execution_count": 16,
   "metadata": {},
   "outputs": [],
   "source": [
    "def convert_to_24_hour(time_str):\n",
    "    # Convert time from 12-hour to 24-hour format for sorting\n",
    "    match = re.match(r'(\\d{1,2})\\.(\\d{2})', time_str)\n",
    "    if match:\n",
    "        hour, minute = int(match.group(1)), int(match.group(2))\n",
    "        # Assuming all times are in AM before 12:00 and PM after 12:00\n",
    "        if hour < 7:  # Assuming the day starts at 7:00 AM, anything below is PM\n",
    "            hour += 12\n",
    "        return hour + minute / 60.0  # Convert to float for sorting\n",
    "    return float('inf')  # Fallback for unrecognized formats\n",
    "\n",
    "def sort_time_intervals(time_intervals):\n",
    "    # Sort the intervals based on their start time in 24-hour format\n",
    "    return sorted(time_intervals, key=lambda x: convert_to_24_hour(x.split(' - ')[0]))"
   ]
  },
  {
   "cell_type": "code",
   "execution_count": 17,
   "metadata": {},
   "outputs": [],
   "source": [
    "def convert_df_to_json(df, day):\n",
    "    # Initialize the dictionary to hold the structured data\n",
    "    structured_json = {}\n",
    "   \n",
    "    # Extract time intervals from the MultiIndex\n",
    "    time_intervals = df.columns.levels[0]\n",
    "   \n",
    "    # Sort the time intervals numerically\n",
    "    time_intervals = sort_time_intervals(time_intervals)\n",
    "   \n",
    "    # Iterate over each time interval\n",
    "    for time_interval in time_intervals:\n",
    "        if time_interval in df.columns.levels[0]:\n",
    "            # Filter DataFrame to get the relevant columns for the current time interval\n",
    "            interval_df = df[time_interval]\n",
    "           \n",
    "            # Ensure interval_df is a DataFrame\n",
    "            if isinstance(interval_df, pd.Series):\n",
    "                interval_df = interval_df.to_frame()\n",
    "           \n",
    "            # Convert the DataFrame to a list of dictionaries\n",
    "            records = interval_df.reset_index(drop=True).to_dict(orient='records')\n",
    "           \n",
    "            # Add the data to the structured JSON\n",
    "            structured_json[time_interval] = records\n",
    "        else:\n",
    "            # Ensure that even empty time intervals are included in the JSON\n",
    "            structured_json[time_interval] = []\n",
    "    \n",
    "    # Return the final structured JSON with the day as the key\n",
    "    return {day: structured_json}"
   ]
  },
  {
   "cell_type": "code",
   "execution_count": 18,
   "metadata": {},
   "outputs": [
    {
     "name": "stdout",
     "output_type": "stream",
     "text": [
      "JSON data saved to json data\\monday_data.json\n",
      "JSON data saved to json data\\tuesday_data.json\n",
      "JSON data saved to json data\\wednesday_data.json\n",
      "JSON data saved to json data\\thursday_data.json\n",
      "JSON data saved to json data\\friday_data.json\n",
      "JSON data saved to json data\\saturday_data.json\n",
      "...\n",
      "All data has been processed and saved!\n"
     ]
    }
   ],
   "source": [
    "# List of days\n",
    "days = ['monday', 'tuesday', 'wednesday', 'thursday', 'friday', 'saturday']\n",
    "\n",
    "# Create a new folder to store the JSON files\n",
    "new_folder = \"json data\"\n",
    "os.makedirs(new_folder, exist_ok=True)\n",
    "\n",
    "# Process each day\n",
    "for day in days:\n",
    "    try:\n",
    "        # Assume the DataFrame for each day is named '{day}_df'\n",
    "        df = globals()[f'{day}_df']\n",
    "\n",
    "        # Convert DataFrame to JSON format\n",
    "        day_json = convert_df_to_json(df, day)\n",
    "\n",
    "        # Save it to a .json file within the new folder\n",
    "        filename = os.path.join(new_folder, f'{day}_data.json')\n",
    "        with open(filename, 'w') as f:\n",
    "            json.dump(day_json, f, indent=4)\n",
    "\n",
    "        print(f\"JSON data saved to {filename}\")\n",
    "    except Exception as e:\n",
    "        print(f\"An error occurred processing {day}: {e}\")\n",
    "print(\"...\")\n",
    "print(\"All data has been processed and saved!\")"
   ]
  }
 ],
 "metadata": {
  "kernelspec": {
   "display_name": "Python 3",
   "language": "python",
   "name": "python3"
  },
  "language_info": {
   "codemirror_mode": {
    "name": "ipython",
    "version": 3
   },
   "file_extension": ".py",
   "mimetype": "text/x-python",
   "name": "python",
   "nbconvert_exporter": "python",
   "pygments_lexer": "ipython3",
   "version": "3.12.3"
  }
 },
 "nbformat": 4,
 "nbformat_minor": 2
}
