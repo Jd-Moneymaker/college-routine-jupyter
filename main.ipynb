{
 "cells": [
  {
   "cell_type": "code",
   "execution_count": null,
   "metadata": {},
   "outputs": [],
   "source": [
    "import pandas as pd\n",
    "import numpy as np"
   ]
  },
  {
   "cell_type": "code",
   "execution_count": null,
   "metadata": {},
   "outputs": [],
   "source": [
    "data = pd.read_excel('routine.xlsx', sheet_name=2 ,skiprows=4)\n",
    "data.columns = data.columns.str.replace('\\n', '_')\n",
    "data.columns = data.columns.str.replace(':', '')\n",
    "data.columns = data.columns.str.replace(' ', '_')\n",
    "data.columns = data.columns.str.replace(r'\\.\\d+', '', regex=True)\n",
    "df = data.fillna('-') \n",
    "df.columns = df.columns.str.upper()"
   ]
  },
  {
   "cell_type": "code",
   "execution_count": null,
   "metadata": {},
   "outputs": [],
   "source": [
    "data_cleaning = df.drop([\"CLASS_SIZE\", \"ASSIGNED_HALL\", \"HALL_CAPACITY_MATCH\", \"UNNAMED_57\"], axis='columns')\n",
    "len(data.columns)\n",
    "indexList = list(range(61))\n",
    "for i in range(2, 61, 5):\n",
    "    indexList.remove(i)\n",
    "clean_data = data_cleaning.iloc[:, indexList]\n",
    "clean_data.to_excel('data.xlsx', index=False)\n",
    "clean_data.head()"
   ]
  }
 ],
 "metadata": {
  "kernelspec": {
   "display_name": "Python 3",
   "language": "python",
   "name": "python3"
  },
  "language_info": {
   "codemirror_mode": {
    "name": "ipython",
    "version": 3
   },
   "file_extension": ".py",
   "mimetype": "text/x-python",
   "name": "python",
   "nbconvert_exporter": "python",
   "pygments_lexer": "ipython3",
   "version": "3.12.3"
  }
 },
 "nbformat": 4,
 "nbformat_minor": 2
}
