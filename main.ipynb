{
 "cells": [
  {
   "cell_type": "code",
   "execution_count": 25,
   "metadata": {},
   "outputs": [],
   "source": [
    "import pandas as pd\n",
    "import numpy as np\n",
    "import os"
   ]
  },
  {
   "cell_type": "code",
   "execution_count": 26,
   "metadata": {},
   "outputs": [],
   "source": [
    "data = pd.read_excel('routine.xlsx', sheet_name=2 ,skiprows=4)\n",
    "data.columns = data.columns.str.replace('\\n', '_')\n",
    "data.columns = data.columns.str.replace(':', '')\n",
    "data.columns = data.columns.str.replace(' ', '_')\n",
    "data.columns = data.columns.str.replace(r'\\.\\d+', '', regex=True)\n",
    "df = data.fillna('-') \n",
    "df.columns = df.columns.str.upper()"
   ]
  },
  {
   "cell_type": "markdown",
   "metadata": {},
   "source": [
    "skips the unnecessary sheets and also skipps the first 4 rows which r the headings of the sheet."
   ]
  },
  {
   "cell_type": "code",
   "execution_count": 27,
   "metadata": {},
   "outputs": [],
   "source": [
    "data_cleaning = df.drop([\"CLASS_SIZE\", \"ASSIGNED_HALL\", \"HALL_CAPACITY_MATCH\", \"UNNAMED_57\"], axis='columns')\n",
    "# len(data.columns)\n",
    "indexList = list(range(61))\n",
    "for i in range(2, 61, 5):\n",
    "    indexList.remove(i)\n",
    "clean_data = data_cleaning.iloc[:, indexList]"
   ]
  },
  {
   "cell_type": "markdown",
   "metadata": {},
   "source": [
    "adds the day in all the rows of the day column "
   ]
  },
  {
   "cell_type": "code",
   "execution_count": 28,
   "metadata": {},
   "outputs": [],
   "source": [
    "def fill_days(column):\n",
    "    current_day = None\n",
    "    new_column = column.copy()  # Create a copy to avoid warnings\n",
    "    for i, value in enumerate(new_column):\n",
    "        if pd.notna(value) and value != '-':\n",
    "            current_day = value\n",
    "        elif value == '-' and current_day is not None:\n",
    "            new_column.iloc[i] = current_day\n",
    "    return new_column\n",
    "\n",
    "# Make sure clean_data is a copy, not a view\n",
    "clean_data = clean_data.copy()\n",
    "\n",
    "# Apply the function to the 'DAY' column\n",
    "clean_data.loc[:, 'DAY'] = fill_days(clean_data['DAY'])"
   ]
  },
  {
   "cell_type": "markdown",
   "metadata": {},
   "source": [
    "this fills in all the columns in day secction. all the columns r filled wit day name"
   ]
  },
  {
   "cell_type": "code",
   "execution_count": 29,
   "metadata": {},
   "outputs": [],
   "source": [
    "days_of_week = ['MONDAY', 'TUESDAY', 'WEDNESDAY', 'THURSDAY', 'FRIDAY', 'SATURDAY']\n",
    "monday_df, tuesday_df, wednesday_df, thursday_df, friday_df, saturday_df = [clean_data.loc[clean_data['DAY'] == day] for day in days_of_week]\n",
    "\n",
    "# Create a new folder to store the CSV files\n",
    "new_folder = \"excel data\"\n",
    "if not os.path.exists(new_folder):\n",
    "    os.makedirs(new_folder)\n",
    "\n",
    "for day in days_of_week:\n",
    "    day_data = clean_data[clean_data['DAY'] == day]\n",
    "    filename = f\"{day}.xlsx\"  # Create a unique filename for each day\n",
    "    file_path = os.path.join(new_folder, filename)  # Join the folder path with the filename\n",
    "    day_data.to_excel(file_path, index=False)\n"
   ]
  },
  {
   "cell_type": "markdown",
   "metadata": {},
   "source": [
    "makes indivigual dataframes for every 'day' section of the week"
   ]
  }
 ],
 "metadata": {
  "kernelspec": {
   "display_name": "Python 3",
   "language": "python",
   "name": "python3"
  },
  "language_info": {
   "codemirror_mode": {
    "name": "ipython",
    "version": 3
   },
   "file_extension": ".py",
   "mimetype": "text/x-python",
   "name": "python",
   "nbconvert_exporter": "python",
   "pygments_lexer": "ipython3",
   "version": "3.12.3"
  }
 },
 "nbformat": 4,
 "nbformat_minor": 2
}
